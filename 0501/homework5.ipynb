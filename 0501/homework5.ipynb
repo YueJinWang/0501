{
 "cells": [
  {
   "cell_type": "code",
   "execution_count": null,
   "metadata": {},
   "outputs": [],
   "source": [
    "n1=int(input(\"請輸入第一個數：\"))\n",
    "o=input(\"請輸入運算符號(+-*/)：\")\n",
    "n2=int(input(\"請輸入第二個數：\"))\n",
    "\n",
    "def cal(n1,o,n2):\n",
    "    if o == \"+\":\n",
    "        ans=n1+n2\n",
    "        return ans\n",
    "    \n",
    "    if o == \"-\":\n",
    "        ans=n1-n2\n",
    "        return ans\n",
    "    \n",
    "    if o == \"*\":\n",
    "        ans=n1*n2\n",
    "        return ans\n",
    "    \n",
    "    if o == \"/\":\n",
    "        ans=n1/n2\n",
    "        return ans\n",
    "\n",
    "print(cal(n1,o,n2))"
   ]
  },
  {
   "cell_type": "code",
   "execution_count": null,
   "metadata": {},
   "outputs": [],
   "source": []
  }
 ],
 "metadata": {
  "kernelspec": {
   "display_name": "Python 3",
   "language": "python",
   "name": "python3"
  },
  "language_info": {
   "codemirror_mode": {
    "name": "ipython",
    "version": 3
   },
   "file_extension": ".py",
   "mimetype": "text/x-python",
   "name": "python",
   "nbconvert_exporter": "python",
   "pygments_lexer": "ipython3",
   "version": "3.7.2"
  }
 },
 "nbformat": 4,
 "nbformat_minor": 2
}
